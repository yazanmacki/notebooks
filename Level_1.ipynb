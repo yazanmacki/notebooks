{
 "cells": [
  {
   "cell_type": "markdown",
   "metadata": {
    "id": "v49seDT8R4EV"
   },
   "source": [
    "# Welcome to your Journey !!!\n",
    "\n",
    "---\n",
    "\n",
    "\n",
    "## This will be your playground where you'll be tested on your Python understanding.\n",
    "\n",
    "\n",
    "\n"
   ]
  },
  {
   "cell_type": "markdown",
   "metadata": {
    "id": "XO7fm9hOwd8e"
   },
   "source": [
    "# Variables, Input(), print()"
   ]
  },
  {
   "cell_type": "markdown",
   "metadata": {
    "id": "T4dDQAgmWtPM"
   },
   "source": [
    "Now lets do some MATH !!! \n",
    "\n",
    "Write a code that creates a variable named `y` and assign it the value `2022`"
   ]
  },
  {
   "cell_type": "code",
   "execution_count": null,
   "metadata": {
    "id": "0CwB57GlWtft"
   },
   "outputs": [],
   "source": []
  },
  {
   "cell_type": "markdown",
   "metadata": {
    "id": "Ti0i8iRTv-bp"
   },
   "source": [
    "Consider the following code:\n",
    "\n",
    "```\n",
    "a = 1000\n",
    "b = 10\n",
    "c = 2\n",
    "```\n",
    "\n",
    "Create an instruction that would produce the number `2022`"
   ]
  },
  {
   "cell_type": "code",
   "execution_count": null,
   "metadata": {
    "id": "srB80ZfBwa16"
   },
   "outputs": [],
   "source": []
  },
  {
   "cell_type": "markdown",
   "metadata": {
    "id": "8XDPvE2Cv-ZU"
   },
   "source": [
    "What number will be printed as a result of executing the following code:\n",
    "```\n",
    "    a = 3\n",
    "    b = 10\n",
    "    c = a + b\n",
    "    d = c + c\n",
    "    print(d - 5)\n",
    "```"
   ]
  },
  {
   "cell_type": "code",
   "execution_count": null,
   "metadata": {
    "id": "1jjhElio7RZ7"
   },
   "outputs": [],
   "source": []
  },
  {
   "cell_type": "markdown",
   "metadata": {
    "id": "eFmYuUCtv-Xf"
   },
   "source": [
    "International Collegiate Programming Contest ([ICPC](https://en.wikipedia.org/wiki/International_Collegiate_Programming_Contest)) this year was attended by 117117 teams, each of which consisted of three participants.\n",
    "\n",
    "Write a code in which you do the following:\n",
    "\n",
    "1. Create a variable named teams  equal to the number of teams that participated in the contest.\n",
    "2. Create a variable named perteam  equal to the number of participants in each team.\n",
    "3. Print the total number of participants that attended ICPC using created variables teams and perteam in calculations."
   ]
  },
  {
   "cell_type": "code",
   "execution_count": null,
   "metadata": {
    "id": "bYUzBpoh8M3G"
   },
   "outputs": [],
   "source": []
  },
  {
   "cell_type": "markdown",
   "metadata": {
    "id": "TIJ9Ki7B84ao"
   },
   "source": [
    "# If Statement"
   ]
  },
  {
   "cell_type": "markdown",
   "metadata": {
    "id": "T8f18SQzv-Va"
   },
   "source": [
    "Consider you want to write a program that prints YES if the two given numbers are equal, and NO otherwise.\n",
    "What condition you should use instead of ??? in the following code:\n",
    "```\n",
    "    a = int(input())\n",
    "    b = int(input())\n",
    "    if ???:\n",
    "        print(\"YES\")\n",
    "    else:\n",
    "        print(\"NO\")\n",
    "```"
   ]
  },
  {
   "cell_type": "code",
   "execution_count": null,
   "metadata": {
    "id": "2sHPIu3G9U5E"
   },
   "outputs": [],
   "source": []
  },
  {
   "cell_type": "markdown",
   "metadata": {
    "id": "ySJ7I13hv-TX"
   },
   "source": [
    "Consider you want to write a program that prints the minimum of the two given numbers.\n",
    "What conditions can you use instead of ??? in the following code:\n",
    "```\n",
    "  a = int(input())\n",
    "  b = int(input())\n",
    "  if ???:\n",
    "      print(a)\n",
    "  else:\n",
    "      print(b)\n",
    "```"
   ]
  },
  {
   "cell_type": "code",
   "execution_count": null,
   "metadata": {
    "id": "ml_YDz_D9epS"
   },
   "outputs": [],
   "source": []
  },
  {
   "cell_type": "markdown",
   "metadata": {
    "id": "K7QyttcTv-Rg"
   },
   "source": [
    "Write a program that prints the maximum of the two given numbers.\n",
    "```\n",
    "  Sample Input 1:\n",
    "  7\n",
    "  13\n",
    "  Sample Output 1:\n",
    "  13\n",
    "  Sample Input 2:\n",
    "  18\n",
    "  15\n",
    "  Sample Output 2:\n",
    "  18\n",
    "  Sample Input 3:\n",
    "  10\n",
    "  10\n",
    "  Sample Output 3:\n",
    "  10\n",
    "```"
   ]
  },
  {
   "cell_type": "code",
   "execution_count": null,
   "metadata": {
    "id": "UaTkqIUp9xrs"
   },
   "outputs": [],
   "source": []
  },
  {
   "cell_type": "markdown",
   "metadata": {
    "id": "7EWDThbZv-Pr"
   },
   "source": [
    "Bob recently found nn left socks and mm right socks.\n",
    "What is the maximum number of pairs he can form?\n",
    "\n",
    "Your program will be given two numbers nn and mm.\n",
    "Your program should print the maximum number of pairs of socks that can be formed.\n",
    "```\n",
    "  Sample Input 1:\n",
    "  2\n",
    "  5\n",
    "  Sample Output 1:\n",
    "  2\n",
    "  Sample Input 2:\n",
    "  7\n",
    "  5\n",
    "  Sample Output 2:\n",
    "  5\n",
    "  Sample Input 3:\n",
    "  3\n",
    "  3\n",
    "  Sample Output 3:\n",
    "  3\n",
    "```"
   ]
  },
  {
   "cell_type": "markdown",
   "metadata": {
    "id": "CaUtAvOIcvg6"
   },
   "source": [
    "# Functions"
   ]
  },
  {
   "cell_type": "markdown",
   "metadata": {
    "id": "YWQRHBUfc2Ab"
   },
   "source": [
    "Create a function `n_plus_1(n: int) -> int` which takes a number as an argument and returns this number plus 1.\n",
    "\n",
    "Sample test cases:\n",
    "```\n",
    "print(n_plus_1(1))  # should print 2\n",
    "print(n_plus_1(3))  # should print 4\n",
    "print(n_plus_1(0))  # should print 1\n",
    "```"
   ]
  },
  {
   "cell_type": "code",
   "execution_count": null,
   "metadata": {
    "id": "74Lly-27c1Fy"
   },
   "outputs": [],
   "source": [
    "def n_plus_1(n: int) -> int:\n",
    "    # write your code here"
   ]
  },
  {
   "cell_type": "markdown",
   "metadata": {
    "id": "XUB-8ylvdDnO"
   },
   "source": [
    "Create a function `max(a: int, b: int, c: int) -> int` which takes three numbers and returns a maximum number of these three.\n",
    "```\n",
    "print(max(3, 1, 5))  # should print 5\n",
    "print(max(4, 7, 1))  # should print 7\n",
    "print(max(10, 1, 5))  # should print 10\n",
    "```"
   ]
  },
  {
   "cell_type": "code",
   "execution_count": 86,
   "metadata": {
    "id": "0JCI_gLzaDeY"
   },
   "outputs": [],
   "source": [
    "def max(a: int, b: int, c: int) -> int:\n",
    "    # write your code here\n"
   ]
  },
  {
   "cell_type": "markdown",
   "metadata": {
    "id": "HAM9bmRve-YB"
   },
   "source": [
    "Implement a function `median(a: int, b: int, c: int) -> int` which takes three integer numbers and return their median.\n",
    "\n",
    "A median of three numbers a, b, c is the number that after sorting is located in the middle.\n",
    "\n",
    "Sample test cases:\n",
    "```\n",
    "print(median(3, 1, 5))  # should print 3\n",
    "print(median(4, 7, 1))  # should print 4\n",
    "print(median(10, 1, 5))  # should print 5\n",
    "```"
   ]
  },
  {
   "cell_type": "code",
   "execution_count": null,
   "metadata": {
    "id": "-59Mu8avfF9o"
   },
   "outputs": [],
   "source": [
    "def median(a: int, b: int, c: int) -> int:\n",
    "    # write your code here"
   ]
  },
  {
   "cell_type": "markdown",
   "metadata": {
    "id": "mP1SToK-fJzL"
   },
   "source": [
    "Implement a function `prime(n: int) -> bool` which takes a positive integer n and return True if it is prime, and False otherwise.\n",
    "\n",
    "A prime number is a positive integer greater than 1 whose only divisors are 1 and itself.\n",
    "\n",
    "Sample test cases:\n",
    "```\n",
    "print(prime(7))  # should print True\n",
    "print(prime(4))  # should print False\n",
    "print(prime(11)  # should print True\n",
    "print(prime(1))  # should print False\n",
    "```\n"
   ]
  },
  {
   "cell_type": "code",
   "execution_count": null,
   "metadata": {
    "id": "IdNlZw3dfNSG"
   },
   "outputs": [],
   "source": [
    "def prime(n: int) -> bool:\n",
    "    # write your code here\n"
   ]
  },
  {
   "cell_type": "markdown",
   "metadata": {
    "id": "98MfF_EsfU-i"
   },
   "source": [
    "A word or a sentence in some language is called a pangram if all the characters of the alphabet of this language appear in it at least once. Pangrams are often used to demonstrate fonts in printing or test the output devices.\n",
    "\n",
    "Create a function `is_pangram(s: str) -> str` which takes a string as an argument consisting of **lowercase** Latin letters. The function `is_pangram` should print \"YES\" if this string is a pangram and \"NO\" if not. \n",
    "\n",
    "Sample test cases:\n",
    "```\n",
    "s1 = \"toosmallword\"\n",
    "print(is_pangram(s1))  # should print NO\n",
    "s2 = \"thequickbrownfoxjumpsoverthelazydog\"\n",
    "print(is_pangram(s2))  # should print YES\n",
    "```"
   ]
  },
  {
   "cell_type": "code",
   "execution_count": null,
   "metadata": {
    "id": "P6BEhPAOflqg"
   },
   "outputs": [],
   "source": [
    "def is_pangram(s: str) -> str:\n",
    "    # write your code here"
   ]
  }
 ],
 "metadata": {
  "colab": {
   "name": "Level 1.ipynb",
   "provenance": [],
   "toc_visible": true
  },
  "kernelspec": {
   "display_name": "Python 3.9.12 ('base')",
   "language": "python",
   "name": "python3"
  },
  "language_info": {
   "name": "python",
   "version": "3.9.12"
  },
  "vscode": {
   "interpreter": {
    "hash": "1d6288560261ade72029e6e02223eb2699d704c048d6dbb08c236043b5508795"
   }
  }
 },
 "nbformat": 4,
 "nbformat_minor": 0
}